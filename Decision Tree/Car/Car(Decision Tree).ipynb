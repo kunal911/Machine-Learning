{
 "cells": [
  {
   "cell_type": "code",
   "execution_count": 1,
   "id": "937564dd",
   "metadata": {},
   "outputs": [],
   "source": [
    "import pandas as pd\n",
    "import numpy as np"
   ]
  },
  {
   "cell_type": "code",
   "execution_count": 2,
   "id": "f8231d4b",
   "metadata": {},
   "outputs": [],
   "source": [
    "attribute_value = {}\n",
    "\n",
    "def Get_Num(dataframe, value):\n",
    "    dataframe.loc[dataframe['label'] == value].count()\n",
    "    return\n",
    "\n",
    "class Node:\n",
    "    \n",
    "    \n",
    "    def __init__(self, attribute=None, values=None, label=None):\n",
    "        self.attribute = attribute\n",
    "        self.values = values\n",
    "        self.next = {}\n",
    "\n",
    "        self.label = label"
   ]
  },
  {
   "cell_type": "code",
   "execution_count": 3,
   "id": "6efaa75e",
   "metadata": {},
   "outputs": [],
   "source": [
    "def Entropy(v, s):\n",
    "    \n",
    "    E = (v/s)*np.log2(v/s) * - 1\n",
    "    \n",
    "    \n",
    "    return E"
   ]
  },
  {
   "cell_type": "code",
   "execution_count": 4,
   "id": "8ed89b57",
   "metadata": {},
   "outputs": [],
   "source": [
    "def Information_Gain(total, s_size, value_numbers, c):\n",
    "    a = 0\n",
    "    i = 0\n",
    "    \n",
    "    while (i < value_numbers.size):\n",
    "        a += (value_numbers[i]/s_size) * c[i]\n",
    "        i += 1\n",
    "        \n",
    "    return total - a "
   ]
  },
  {
   "cell_type": "code",
   "execution_count": 5,
   "id": "e44ae7d8",
   "metadata": {},
   "outputs": [],
   "source": [
    "def Gini_Index(p, s):\n",
    "    GI = np.power(p/s,2)\n",
    "    \n",
    "    return GI"
   ]
  },
  {
   "cell_type": "code",
   "execution_count": 6,
   "id": "a7c34f53",
   "metadata": {},
   "outputs": [],
   "source": [
    "def Majority_Error(p, s):\n",
    "    ME = (s-p)/s\n",
    "    \n",
    "    return ME"
   ]
  },
  {
   "cell_type": "code",
   "execution_count": 7,
   "id": "45f24364",
   "metadata": {},
   "outputs": [],
   "source": [
    "def Common_Label(data):\n",
    "    return data['label'].value_counts().max()\n",
    "\n",
    "def total_Value(label_v,num_rows,d):\n",
    "    if d == 1:\n",
    "        total_v = 0\n",
    "        \n",
    "        for v in label_v:\n",
    "            total_v += Entropy(v, num_rows)\n",
    "        return total_v\n",
    "    \n",
    "    if d == 2:\n",
    "        total_v = 1\n",
    "        for v in label_v:\n",
    "            total_v -= Gini_Index(v, num_rows)\n",
    "            \n",
    "        return total_v\n",
    "    \n",
    "    if d == 3:\n",
    "        total_v = 0\n",
    "        for v in label_v:\n",
    "            total_v += (num_rows-v)/num_rows\n",
    "        return total_v\n"
   ]
  },
  {
   "cell_type": "code",
   "execution_count": 8,
   "id": "c86a071e",
   "metadata": {},
   "outputs": [],
   "source": [
    "def Get_Entropy(data, attributes, ttl_entropy):\n",
    "    best_attribute = None\n",
    "    best_info_gain = None\n",
    "    for attribute in attributes:\n",
    "        if(attribute != 'label'):\n",
    "            attribute_values = pd.unique(data[attribute])\n",
    "            entropies = []\n",
    "\n",
    "            for value in attribute_values:\n",
    "                val_bool = data[attribute] == value\n",
    "                filtered_data = data[val_bool]\n",
    "                label_counts = filtered_data['label'].value_counts()\n",
    "                value_entropy = 0\n",
    "                for label in label_counts:\n",
    "                    value_entropy += Entropy(label, filtered_data.shape[0])\n",
    "                entropies.append(value_entropy)\n",
    "                \n",
    "                \n",
    "            attribute_info_gain = Information_Gain(ttl_entropy, data.shape[0], data[attribute].value_counts(), entropies)\n",
    "            if best_info_gain == None or attribute_info_gain > best_info_gain:\n",
    "                best_attribute = attribute\n",
    "                best_info_gain = attribute_info_gain\n",
    "\n",
    "    root_node = Node(best_attribute, pd.unique(data[best_attribute]))\n",
    "    return root_node, best_info_gain"
   ]
  },
  {
   "cell_type": "code",
   "execution_count": 9,
   "id": "e1468398",
   "metadata": {},
   "outputs": [],
   "source": [
    "\n",
    "\n",
    "def Get_Gini(data,attributes, ttl_gini):\n",
    "    best_attribute = None\n",
    "    best_info_gain = None\n",
    "    for attribute in attributes:\n",
    "        if(attribute != 'label'):\n",
    "            attribute_values = pd.unique(data[attribute])\n",
    "            gini_indexes = []\n",
    "\n",
    "            for value in attribute_values:\n",
    "                val_bool = data[attribute] == value\n",
    "                filtered_data = data[val_bool]\n",
    "                label_counts = filtered_data['label'].value_counts()\n",
    "                value_gini = 1\n",
    "                for label in label_counts:\n",
    "                    value_gini -= Gini_Index(label, filtered_data.shape[0])\n",
    "                gini_indexes.append(value_gini)\n",
    "            attribute_info_gain = Information_Gain(ttl_gini, data.shape[0], data[attribute].value_counts(), gini_indexes)\n",
    "            if best_info_gain == None or attribute_info_gain > best_info_gain:\n",
    "                best_attribute = attribute\n",
    "                best_info_gain = attribute_info_gain\n",
    "\n",
    "    root_node = Node(best_attribute, pd.unique(data[best_attribute]))\n",
    "    return root_node, best_info_gain"
   ]
  },
  {
   "cell_type": "code",
   "execution_count": 10,
   "id": "856482f9",
   "metadata": {},
   "outputs": [],
   "source": [
    "def Get_Majority(data,attributes, ttl_majority):\n",
    "    best_attribute = None\n",
    "    best_info_gain = None\n",
    "    for attribute in attributes:\n",
    "        if(attribute != 'label'):\n",
    "            attribute_values = pd.unique(data[attribute])\n",
    "            majority_errors = []\n",
    "\n",
    "            for value in attribute_values:\n",
    "                val_bool = data[attribute] == value\n",
    "                filtered_data = data[val_bool]\n",
    "                label_counts = filtered_data['label'].value_counts()\n",
    "                value_majority = 1\n",
    "                for label in label_counts:\n",
    "                    value_majority += Majority_Error(label, filtered_data.shape[0])\n",
    "                majority_errors.append(value_majority)\n",
    "            attribute_info_gain = Information_Gain(ttl_majority, data.shape[0], data[attribute].value_counts(), majority_errors)\n",
    "            if best_info_gain == None or attribute_info_gain > best_info_gain:\n",
    "                best_attribute = attribute\n",
    "                best_info_gain = attribute_info_gain\n",
    "\n",
    "    root_node = Node(best_attribute, pd.unique(data[best_attribute]))\n",
    "    return root_node, best_info_gain\n"
   ]
  },
  {
   "cell_type": "code",
   "execution_count": 11,
   "id": "906d2554",
   "metadata": {},
   "outputs": [],
   "source": [
    "\n",
    "\n",
    "\n",
    "\n",
    "def ID3(data, attributes, ttl_entropy, defined_depth, d):\n",
    "    if defined_depth == 0:\n",
    "        dd = Node(label = Common_Label(data))\n",
    "        return dd\n",
    "\n",
    "    if len(pd.unique(data['label'])) == 1:\n",
    "        dd1 = Node(label=pd.unique(data['label'])[0])\n",
    "        return dd1\n",
    "\n",
    "    if len(attributes) == 0:\n",
    "        dd2 = Node(label= Common_Label(data))\n",
    "        return dd2\n",
    "\n",
    "\n",
    "    if d == 1:\n",
    "        root_node, new_error = Get_Entropy(data, attributes, ttl_entropy)\n",
    "    if d == 2:\n",
    "        root_node, new_error = Get_Gini(data, attributes, ttl_entropy)\n",
    "    if d == 3:\n",
    "        root_node, new_error = Get_Majority(data, attributes, ttl_entropy)\n",
    "    for value in attribute_value[root_node.attribute]:\n",
    "\n",
    "        is_val = data[root_node.attribute] == value\n",
    "        value_subset = data[is_val]\n",
    "\n",
    "        length = len(value_subset.index)\n",
    "        if length == 0:\n",
    "            root_node.next[value] = Node(label= Common_Label(data))\n",
    "        else:\n",
    "            new_attributes = attributes[:]\n",
    "            new_attributes.remove(root_node.attribute)\n",
    "            new_depth = defined_depth -1\n",
    "            root_node.next[value] = ID3(value_subset,new_attributes, new_error, new_depth, d)\n",
    "    return root_node"
   ]
  },
  {
   "cell_type": "code",
   "execution_count": 12,
   "id": "b732b05a",
   "metadata": {},
   "outputs": [],
   "source": [
    "def Get_Accuracy(root_node, data):\n",
    "    wrong_predictions = 0\n",
    "    i = 0\n",
    "    \n",
    "    while i < data.shape[0]:\n",
    "        current_node = root_node\n",
    "        \n",
    "        while current_node.label == None:\n",
    "            current_node = current_node.next[data[current_node.attribute].iloc[i]]\n",
    "            \n",
    "        if current_node.label != data['label'].iloc[i]:\n",
    "            wrong_predictions += 1\n",
    "        i += 1\n",
    "    return wrong_predictions/data.shape[0]"
   ]
  },
  {
   "cell_type": "code",
   "execution_count": 13,
   "id": "fecafa02",
   "metadata": {},
   "outputs": [],
   "source": [
    "def Get_Data(data, columns):\n",
    "    for column in columns:\n",
    "        attribute_value[column] = pd.unique(data[column])"
   ]
  },
  {
   "cell_type": "code",
   "execution_count": 49,
   "id": "a08cda1d",
   "metadata": {},
   "outputs": [],
   "source": [
    "def main():\n",
    "    print('Please enter the Depth(1-6)')\n",
    "    depth = int(input())\n",
    "    print('Please select the attribute, 1 = Entropy, 2 = Gini_Index, 3 = Majority_Error')\n",
    "    decider = int(input())\n",
    "    car_columns = ['buying','maint','doors','persons','lug_boot','safety','label']\n",
    "    data = pd.read_csv(\"train.csv\", names=car_columns)\n",
    "    test_data = pd.read_csv(\"test.csv\", names=car_columns)\n",
    "    num_rows = data.shape[0]\n",
    "    total_label_values = data['label'].value_counts()\n",
    "    total_error = total_Value(total_label_values, num_rows, decider)\n",
    "    car_columns.remove('label')\n",
    "    Get_Data(data, car_columns)\n",
    "    root_node = ID3(data, car_columns, total_error, depth, decider)\n",
    "    train_error = Get_Accuracy(root_node, data)\n",
    "    test_error = Get_Accuracy(root_node, test_data)\n",
    "    print('The selected depth is: ' + str(depth))\n",
    "    print('training error = ' + str(train_error) + ' testing error = ' + str(test_error))"
   ]
  },
  {
   "cell_type": "code",
   "execution_count": null,
   "id": "85f8e98f",
   "metadata": {},
   "outputs": [],
   "source": []
  },
  {
   "cell_type": "code",
   "execution_count": null,
   "id": "6786aba4",
   "metadata": {},
   "outputs": [],
   "source": []
  },
  {
   "cell_type": "code",
   "execution_count": null,
   "id": "26118784",
   "metadata": {},
   "outputs": [],
   "source": []
  },
  {
   "cell_type": "code",
   "execution_count": 61,
   "id": "8f97dcf4",
   "metadata": {},
   "outputs": [
    {
     "name": "stdout",
     "output_type": "stream",
     "text": [
      "Please enter the Depth(1-6)\n",
      "2\n",
      "Please select the attribute, 1 = Entropy, 2 = Gini_Index, 3 = Majority_Error\n",
      "1\n",
      "The selected depth is: 2\n",
      "training error = 0.671 testing error = 0.6607142857142857\n"
     ]
    }
   ],
   "source": [
    "if __name__ == \"__main__\":\n",
    "    main()"
   ]
  },
  {
   "cell_type": "code",
   "execution_count": null,
   "id": "0bea53e7",
   "metadata": {},
   "outputs": [],
   "source": []
  },
  {
   "cell_type": "code",
   "execution_count": null,
   "id": "b5e9911a",
   "metadata": {},
   "outputs": [],
   "source": []
  }
 ],
 "metadata": {
  "kernelspec": {
   "display_name": "Python 3",
   "language": "python",
   "name": "python3"
  },
  "language_info": {
   "codemirror_mode": {
    "name": "ipython",
    "version": 3
   },
   "file_extension": ".py",
   "mimetype": "text/x-python",
   "name": "python",
   "nbconvert_exporter": "python",
   "pygments_lexer": "ipython3",
   "version": "3.8.8"
  }
 },
 "nbformat": 4,
 "nbformat_minor": 5
}
